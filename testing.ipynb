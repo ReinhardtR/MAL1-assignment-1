{
 "cells": [
  {
   "cell_type": "code",
   "execution_count": 6,
   "metadata": {},
   "outputs": [
    {
     "name": "stdout",
     "output_type": "stream",
     "text": [
      "John\n"
     ]
    }
   ],
   "source": [
    "and_strings = [\" & \", \" and \", \" og \"]\n",
    "\n",
    "def get_names_in_string(name):\n",
    "    for and_string in and_strings:\n",
    "        if and_string in name:\n",
    "            return name.split(and_string)\n",
    "    \n",
    "    return name.split(\" \")[0]\n",
    "    \n",
    "\n",
    "print(get_names_in_string(\"John\"))"
   ]
  }
 ],
 "metadata": {
  "kernelspec": {
   "display_name": "base",
   "language": "python",
   "name": "python3"
  },
  "language_info": {
   "codemirror_mode": {
    "name": "ipython",
    "version": 3
   },
   "file_extension": ".py",
   "mimetype": "text/x-python",
   "name": "python",
   "nbconvert_exporter": "python",
   "pygments_lexer": "ipython3",
   "version": "3.11.7"
  }
 },
 "nbformat": 4,
 "nbformat_minor": 2
}
